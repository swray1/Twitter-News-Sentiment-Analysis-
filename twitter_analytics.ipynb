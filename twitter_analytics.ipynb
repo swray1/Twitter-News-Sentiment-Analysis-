{
 "cells": [
  {
   "cell_type": "code",
   "execution_count": 10,
   "metadata": {},
   "outputs": [],
   "source": [
    "import  tweepy\n",
    "import  pandas  as  pd\n",
    "import  matplotlib.pyplot  as plt\n",
    "import time\n",
    "import random\n",
    "import numpy \n",
    "import json\n",
    "import requests\n",
    "import numpy as np\n",
    "from pprint import pprint\n",
    "from vaderSentiment.vaderSentiment import SentimentIntensityAnalyzer\n",
    "analyzer = SentimentIntensityAnalyzer()\n",
    "import config"
   ]
  },
  {
   "cell_type": "code",
   "execution_count": 15,
   "metadata": {},
   "outputs": [],
   "source": [
    "# OAuth process to link to twitter\n",
    "auth = tweepy.OAuthHandler(consumer_key, consumer_secret)\n",
    "auth.set_access_token(access_token, access_token_secret)\n",
    "api = tweepy.API(auth)"
   ]
  },
  {
   "cell_type": "code",
   "execution_count": 16,
   "metadata": {},
   "outputs": [],
   "source": [
    "# BBC, CBS, CNN, Fox, and New York times twitter handles\n",
    "news_handle = ['@BBC', '@CBS', \"@CNN\", \"@FoxNews\", \"@nytimes\"]\n",
    "sentiment_analysis = pd.DataFrame()\n",
    "counter = 1"
   ]
  },
  {
   "cell_type": "code",
   "execution_count": 21,
   "metadata": {},
   "outputs": [],
   "source": [
    "for user in news_handle:\n",
    "    \n",
    "    tweets = api.user_timeline(user, count = 100)\n",
    "    \n",
    "    for tweet in tweets:\n",
    "        \n",
    "        results = analyzer.polarity_scores(tweets[\"text\"])\n",
    "        compound = results[\"compound\"]\n",
    "        positive = results[\"pos\"]\n",
    "        neutral = results[\"neu\"]\n",
    "        negative = results[\"neg\"]\n",
    "        tweets_ago = counter\n",
    "        sentiments_analysis.append({\"Date\": tweets[\"created_at\"],\n",
    "                               \"User_name\": tweets['user']['screen_name'],\n",
    "                               \"Tweets_Ago\" : tweets_ago,\n",
    "                               \"Compound\": compound,\n",
    "                               \"Positive\": positive,\n",
    "                               \"Negative\": neutral,\n",
    "                               \"Neutral\": negative})\n",
    "        counter = counter + 1"
   ]
  },
  {
   "cell_type": "code",
   "execution_count": 25,
   "metadata": {},
   "outputs": [],
   "source": [
    "sentiment_analysis.to_csv('news_outlets_twitter_sentiment_analyzer.csv',index=False)"
   ]
  },
  {
   "cell_type": "code",
   "execution_count": 24,
   "metadata": {},
   "outputs": [],
   "source": [
    "BBC = sentiment_analysis[sentiment_analysis['User_name'] == 'BBC']\n",
    "CBS = sentiment_analysis[sentiment_analysis['User_name'] == 'CBS']\n",
    "Fox = sentiment_analysis[sentiment_analysis['User_name'] == 'fox']\n",
    "CNN = sentiment_analysis[sentiment_analysis['User_name'] == 'CNN']\n",
    "NyTimes = sentiment_analysis[sentiment_analysis['User_name'] == 'nytimes']"
   ]
  },
  {
   "cell_type": "code",
   "execution_count": 26,
   "metadata": {},
   "outputs": [],
   "source": [
    "users = [BBC, CBS, Fox, CNN, NyTimes]\n",
    "colors = [\"r\", \"b\", \"purple\", \"yellow\", \"green\"]\n",
    "labels = [\"BBC\", \"CBS\", \"Fox\", \"CNN\", \"NyTimes\"]\n",
    "\n",
    "for x,y in users, colors:\n",
    "    plt.scatter(x[\"Tweets_ago\"], x[\"Compound\"], c = y, alpha = .5, s = 100, label = labels)"
   ]
  },
  {
   "cell_type": "code",
   "execution_count": 27,
   "metadata": {},
   "outputs": [],
   "source": [
    "plt.legend(loc = \"upper right\")\n",
    "plt.title(\"Sentiment Analysis of News Tweets\", fontsize = 15)\n",
    "plt.xlabel(\"Tweets ago\")\n",
    "plt.ylabel(\"Tweets Polarity\")\n",
    "plt.xlim(0,100)\n",
    "plt.show()"
   ]
  },
  {
   "cell_type": "code",
   "execution_count": 28,
   "metadata": {},
   "outputs": [],
   "source": [
    "comp_data =  { \"BBC\" : np.mean(BBC['Compound']), \n",
    "    \"CBS\" : np.mean(CBS['Compound']),\n",
    "    \"CNN\" : np.mean(Fox['Compound']),\n",
    "    \"FOX\": np.mean(CNN['Compound']),\n",
    "    \"NYT\": np.mean(NyTimes['Compound']) }\n",
    "\n",
    "plt.bar(comp_data.keys(), comp_data.values(), color = ['g', 'y', 'r', 'b', 'purple'])\n",
    "plt.title('Overall Media Sentiments of News Outlets', fontsize = 15)\n",
    "plt.ylabel(\"Tweet Polarity\")\n",
    "plt.show()"
   ]
  },
  {
   "cell_type": "code",
   "execution_count": null,
   "metadata": {},
   "outputs": [],
   "source": []
  }
 ],
 "metadata": {
  "kernelspec": {
   "display_name": "Python 3",
   "language": "python",
   "name": "python3"
  },
  "language_info": {
   "codemirror_mode": {
    "name": "ipython",
    "version": 3
   },
   "file_extension": ".py",
   "mimetype": "text/x-python",
   "name": "python",
   "nbconvert_exporter": "python",
   "pygments_lexer": "ipython3",
   "version": "3.6.4"
  }
 },
 "nbformat": 4,
 "nbformat_minor": 2
}
